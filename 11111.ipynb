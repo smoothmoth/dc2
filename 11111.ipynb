{
 "cells": [
  {
   "cell_type": "markdown",
   "metadata": {},
   "source": [
    "# JBI010 - Exercises Week 3 22-23\n",
    "\n",
    "This Jupyter notebook aims to provide exercises for practicing your programming skills.  \n",
    "\n",
    "**Note:** Only five out of seven exercises–with a score of at least 80%–count for 5% of the course's final grade. Submit your notebook to Canvas, in this way Momotor will be able to give you feedback."
   ]
  },
  {
   "cell_type": "markdown",
   "metadata": {},
   "source": [
    "## Table of Contents\n",
    "\n",
    "<div class=\"toc\" style=\"margin-top: 1em;\">\n",
    "    <ul class=\"toc-item\">\n",
    "        <li>\n",
    "            <span><a href=\"#Prime-Numbers\" data-toc-modified-id=\"Prime-Numbers\">1. Prime Numbers</a></span>\n",
    "        </li>\n",
    "        <li>\n",
    "            <span><a href=\"#Duplicate-Detection\" data-toc-modified-id=\"Duplicate-Detection\">2. Duplicate Detection</a></span>\n",
    "        </li>\n",
    "        <li>\n",
    "            <span><a href=\"#Counting-Prefixes\" data-toc-modified-id=\"Counting-Prefixes\">3. Counting Prefixes</a></span>\n",
    "        </li>\n",
    "        <li>\n",
    "            <span><a href=\"#Car-Dictionaries\" data-toc-modified-id=\"Car-Dictionaries\">4. Car Dictionaries</a></span>\n",
    "        </li>\n",
    "        <li>\n",
    "            <span><a href=\"#Employee-of-the-Year\" data-toc-modified-id=\"Employee-of-the-Year\">5. Employee of the Year</a></span>\n",
    "        </li>\n",
    "        <li>\n",
    "            <span><a href=\"#Pokemon-Search\" data-toc-modified-id=\"Pokemon-Search\">6. Pokemon Search</a></span>\n",
    "        </li>\n",
    "        </ul>\n",
    "</div>"
   ]
  },
  {
   "cell_type": "markdown",
   "metadata": {},
   "source": [
    "\n",
    "# Introduction to This Template Notebook\n",
    "\n",
    "* This is a **personal** notebook. \n",
    "* Make sure you work in a **copy** of `...-template.ipynb`,\n",
    "    **renamed** to `...-yourIDnr.ipynb`,\n",
    "    where `yourIDnr` is your TU/e identification number. \n",
    "\n",
    "<div class=\"alert alert-danger\" role=\"danger\">\n",
    "<h3>Integrity</h3>\n",
    "<ul>\n",
    "    <li>In this course, you must act according to the rules of the TU/e code of scientific conduct.</li>\n",
    "    <li>All the exercises and the graded assignments are to be done within your programming homework group.</li>\n",
    "    <li>You must not copy from the Internet, your friends, books... If you represent other people's work as your own, then that constitutes fraud and will be reported to the Examination Committee.</li>\n",
    "    <li>Making your work available to others (complicity) also constitutes fraud.</li>\n",
    "</ul>\n",
    "</div>\n",
    "\n",
    "You are expected to work with Python 3 code in this notebook.\n",
    "\n",
    "The locations where you should write your solutions can be recognized by\n",
    "**marker lines**,\n",
    "which look like this:\n",
    "\n",
    ">`#//`\n",
    ">    `BEGIN_TODO [Label]` `Description` `(n points)`\n",
    ">\n",
    ">`#//`\n",
    ">    `END_TODO [Label]`\n",
    "\n",
    "<div class=\"alert alert-warning\" role=\"alert\">\n",
    "    <h3>Markers</h3>\n",
    "    Do NOT modify or delete these marker lines.  Keep them as they are.<br/>\n",
    "    NEVER write code that is needed for grading <i>outside</i> the marked blocks. It is invisible there.\n",
    "</div>\n",
    "\n",
    "Proceed in this notebook as follows:\n",
    "* **Personalize** the notebook (see below)\n",
    "* **Read** the text.\n",
    "* **Fill in** your solutions between `BEGIN_TODO` and `END_TODO` marker lines.\n",
    "* **Run** _all_ code cells (also the ones _without_ your code),\n",
    "    _in linear order_ from the first code cell.\n",
    "\n",
    "**Personalize your notebook**:\n",
    "1. Fill in your _full name_, _identification number_, and the current _date_ as strings between quotes.\n",
    "1. Run the code cell by putting the cursor there and typing **Control-Enter**.\n"
   ]
  },
  {
   "cell_type": "code",
   "execution_count": 1,
   "metadata": {},
   "outputs": [
    {
     "data": {
      "text/plain": [
       "('Jikun Shen', '1833847', '2022-09-12')"
      ]
     },
     "execution_count": 1,
     "metadata": {},
     "output_type": "execute_result"
    }
   ],
   "source": [
    "#// BEGIN_TODO [Author] Name, Id.nr., Date, as strings (1 point)\n",
    "\n",
    "AUTHOR_NAME = 'Jikun Shen'\n",
    "AUTHOR_ID_NR = '1833847'\n",
    "AUTHOR_DATE = '2022-09-12'  # when first modified, e.g. '2022-09-05'\n",
    "\n",
    "#// END_TODO [Author]\n",
    "\n",
    "AUTHOR_NAME, AUTHOR_ID_NR, AUTHOR_DATE"
   ]
  },
  {
   "cell_type": "markdown",
   "metadata": {},
   "source": [
    "\n",
    "## How to Submit Your Work\n",
    "\n",
    "1. **Before submitting**, you must run your notebook by doing **Kernel > Restart & Run All**. Make sure that your notebook runs without errors **in linear order**.\n",
    "\n",
    "2. Submit the executed notebook with your work for the appropriate assignment in **Canvas**.\n",
    "\n",
    "* In the **Momotor** tab in Canvas,\n",
    "  you can select that assignment again to find some feedback on your submitted work.\n",
    "  \n",
    "* If there are any problems reported by _Momotor_,\n",
    "  then you need to fix those issues and **resubmit the fixed notebook**.\n",
    "\n",
    "In case of a high workload on our server\n",
    "(because many students submit close to the deadline),\n",
    "it may take longer to receive the feedback.\n"
   ]
  },
  {
   "cell_type": "markdown",
   "metadata": {},
   "source": [
    "## Preliminaries\n",
    "\n",
    "Run the cell below. This cell will import additional modules providing additional Python functionality."
   ]
  },
  {
   "cell_type": "code",
   "execution_count": 2,
   "metadata": {},
   "outputs": [],
   "source": [
    "# Imports\n"
   ]
  },
  {
   "cell_type": "markdown",
   "metadata": {},
   "source": [
    "## Important Reminder\n",
    "\n",
    "* Follow all coding conventions defined on the Python Coding Standard document. Remember that you are not just programming for a **machine**, you are mainly programming for **other humans!**\n",
    "    * In particular, all function definitions must have **type hints** and a **docstring**.\n",
    "    * A *valid* **docstring** starts with a capital letter and ends with a dot. "
   ]
  },
  {
   "cell_type": "markdown",
   "metadata": {},
   "source": [
    "# Prime Numbers"
   ]
  },
  {
   "cell_type": "code",
   "execution_count": 3,
   "metadata": {},
   "outputs": [],
   "source": [
    "# Change according to required imports\n",
    "from typing import List"
   ]
  },
  {
   "cell_type": "markdown",
   "metadata": {},
   "source": [
    "Create a function `primes` that takes an integer `max_num` as an argument and returns a list containing the prime numbers between 2 and `max_num` inclusive.<br>\n",
    "\n",
    "**Notes:**\n",
    "1. You can assume that `max_num` is always larger than 2.\n",
    "2. You can create auxiliary functions to help you solve the problem.\n",
    "3. The function must have a docstring and type hints.\n",
    "\n",
    "**Example:**  \n",
    "*Input:*  \n",
    "```python\n",
    "max_num = 23\n",
    "```\n",
    "\n",
    "*Output:*  \n",
    "```Python\n",
    "[2, 3, 5, 7, 11, 13, 17, 19, 23]\n",
    "```"
   ]
  },
  {
   "cell_type": "code",
   "execution_count": 4,
   "metadata": {},
   "outputs": [
    {
     "data": {
      "text/plain": [
       "[2, 3, 5, 7, 11, 13, 17, 19, 23]"
      ]
     },
     "execution_count": 4,
     "metadata": {},
     "output_type": "execute_result"
    }
   ],
   "source": [
    "#// BEGIN_TODO [Prime_numbers] Prime numbers \n",
    "\n",
    "#this is a docstring\n",
    "def auxiliary_prime(num: int) -> bool: #this is a docstring\n",
    "    \"\"\"\n",
    "    Prime Numbers\n",
    "    auxiliary_prime\n",
    "    this is a docstring\n",
    "    \"\"\"\n",
    "    i = 2\n",
    "    while i < num:\n",
    "        if num % i == 0:\n",
    "            return False\n",
    "        i += 1\n",
    "    return True\n",
    "\n",
    "\n",
    "def primes(max_num: int) -> List[int]:\n",
    "    \"\"\"\n",
    "    primes\n",
    "    this is a docstring\n",
    "    \"\"\"\n",
    "    n = 2\n",
    "    list = []\n",
    "    while n <= max_num:\n",
    "        if auxiliary_prime(n):\n",
    "            list.append(n)\n",
    "        n += 1\n",
    "    return list\n",
    "\n",
    "#// END_TODO [Prime_numbers]\n",
    "\n",
    "primes(23)"
   ]
  },
  {
   "cell_type": "markdown",
   "metadata": {},
   "source": [
    "# Duplicate Detection"
   ]
  },
  {
   "cell_type": "code",
   "execution_count": 5,
   "metadata": {},
   "outputs": [],
   "source": [
    "# Change according to required imports\n",
    "from typing import List"
   ]
  },
  {
   "cell_type": "markdown",
   "metadata": {},
   "source": [
    "In this exercise, we want to identify lists containing duplicated elements. Write a function `has_duplicates` that takes a list of any type and returns a Boolean that is `True` if there are duplicated items on the list, `False` otherwise. Name the parameter of the function `elements`. Do not modify the content of `elements` within your function.\n",
    "\n",
    "**Note:** The function must have a docstring and type hints.\n",
    "                                                                                                           \n",
    "**Example:**  \n",
    "*Input:*  \n",
    "```python\n",
    "elements = [1, 2, 3, 2]\n",
    "```\n",
    "\n",
    "*Output:*  \n",
    "```Python\n",
    "True\n",
    "```"
   ]
  },
  {
   "cell_type": "code",
   "execution_count": 6,
   "metadata": {},
   "outputs": [
    {
     "data": {
      "text/plain": [
       "True"
      ]
     },
     "execution_count": 6,
     "metadata": {},
     "output_type": "execute_result"
    }
   ],
   "source": [
    "#// BEGIN_TODO [Duplicate_detection] Duplicate detection\n",
    "\n",
    "\n",
    "def has_duplicates(elements: List[any]) -> bool:\n",
    "    \"\"\"\n",
    "    has_dupulicates\n",
    "    Duplicate Detection\n",
    "    this is a docstring\n",
    "    \"\"\"\n",
    "    for i in range(len(elements) - 1):\n",
    "        if elements.count(elements[i + 1]) != 1:\n",
    "            return True\n",
    "    return False\n",
    "\n",
    "\n",
    "#// END_TODO [Duplicate_detection]\n",
    "\n",
    "has_duplicates([1, 2, 3, 2])"
   ]
  },
  {
   "cell_type": "markdown",
   "metadata": {},
   "source": [
    "# Counting Prefixes"
   ]
  },
  {
   "cell_type": "code",
   "execution_count": 7,
   "metadata": {},
   "outputs": [],
   "source": [
    "# Change according to required imports\n",
    "from typing import List, Dict"
   ]
  },
  {
   "cell_type": "markdown",
   "metadata": {},
   "source": [
    "The function `histogram` creates a dictionary that stores the frequency of letters in a given `word`.\n",
    "\n",
    "```Python\n",
    "def histogram(word: str) -> Dict[str, int]:\n",
    "    \"\"\"\n",
    "    Computes a histogram of prefixes of length n.\n",
    "    :param words: list of words\n",
    "    :param n: size of the prefix\n",
    "    :returns: dictionary with the frequency of prefixes in the list `words`.\n",
    "    \"\"\"\n",
    "    \n",
    "    dct = dict()\n",
    "    for ch in word:\n",
    "        if ch not in dct:\n",
    "            dct[ch] = 1\n",
    "        else:\n",
    "            dct[ch] += 1\n",
    "            \n",
    "    return dct\n",
    "\n",
    "```\n",
    "\n",
    "Modify the function `histogram` to receive two parameters: `words` and `n` (keep the given order).\n",
    "The parameter `words` is a list of strings and `n` is an integer. The new function will return a dictionary corresponding to the histogram of the prefixes of `words`. The prefixes are obtained by selecting the first `n` characters of each word contained in `words`. \n",
    "\n",
    "**Notes:**\n",
    "1. Assume that `n >= 1` and `words` is a non-empty list.\n",
    "2. The function must have a docstring and type hints.\n",
    "3. Make sure to use the order of the parameters that we defined above.\n",
    "\n",
    "**Example:**  \n",
    "*Input:*  \n",
    "```Python \n",
    "words = ['hollow', 'home', 'show', 'rec', 'recital', 'rome']\n",
    "n = 2\n",
    "```\n",
    "\n",
    "*Output:*  \n",
    "```Python\n",
    "{ 'ho': 2, 'sh': 1, 're': 2, 'ro': 1}\n",
    "```"
   ]
  },
  {
   "cell_type": "code",
   "execution_count": 8,
   "metadata": {},
   "outputs": [
    {
     "data": {
      "text/plain": [
       "{'ho': 2, 'sh': 1, 're': 2, 'ro': 1}"
      ]
     },
     "execution_count": 8,
     "metadata": {},
     "output_type": "execute_result"
    }
   ],
   "source": [
    "words = ['hollow', 'home', 'show', 'rec', 'recital', 'rome']\n",
    "n = 2\n",
    "\n",
    "#// BEGIN_TODO [Counting_prefixes] Counting prefixes\n",
    "\n",
    "def histogram(words: List[str], n: int) -> Dict[str, int]:\n",
    "    \"\"\"\n",
    "    this is a docstring\n",
    "    \"\"\"\n",
    "    dct = dict()\n",
    "    \n",
    "    for i in range(len(words)):\n",
    "        char =  words[i]\n",
    "        words[i] = char[0:n]\n",
    "    for ch in words:\n",
    "        if ch not in dct:\n",
    "            dct[ch] = 1\n",
    "        else:\n",
    "            dct[ch] += 1\n",
    "    return dct\n",
    "\n",
    "#// END_TODO [Counting_prefixes]\n",
    "\n",
    "histogram(words, n)"
   ]
  },
  {
   "cell_type": "markdown",
   "metadata": {},
   "source": [
    "# Car Dictionaries"
   ]
  },
  {
   "cell_type": "code",
   "execution_count": 9,
   "metadata": {},
   "outputs": [],
   "source": [
    "# Change according to required imports\n",
    "from typing import List, Dict"
   ]
  },
  {
   "cell_type": "markdown",
   "metadata": {},
   "source": [
    "Lists of dictionaries are commonly used to store structured data. The following cell presents the `cars` list. The list contains dictionaries with car information. The keys of each dictionary are: `'brand'`, `'model'`, `'manufacture_year'`, and `'price'`."
   ]
  },
  {
   "cell_type": "code",
   "execution_count": 10,
   "metadata": {},
   "outputs": [],
   "source": [
    "# Do not modify the code in this cell\n",
    "cars = [\n",
    "    {'brand': 'McFarri', 'model': '445', 'manufacture_year': 1980, 'price': 18000},\n",
    "    {'brand': 'McFarri', 'model': '455', 'manufacture_year': 1985, 'price': 22000},\n",
    "    {'brand': 'McFarri', 'model': '545', 'manufacture_year': 1998, 'price': 28000},\n",
    "    {'brand': 'McFarri', 'model': '555', 'manufacture_year': 2001, 'price': 30599},\n",
    "    {'brand': 'McFarri', 'model': 's445', 'manufacture_year': 2007, 'price': 36000},\n",
    "    {'brand': 'McFarri', 'model': 's455', 'manufacture_year': 2008, 'price': 44000},\n",
    "    {'brand': 'McFarri', 'model': 's545', 'manufacture_year': 2013, 'price': 56000},\n",
    "    {'brand': 'McFarri', 'model': 's555', 'manufacture_year': 2017, 'price': 112599},\n",
    "    {'brand': 'Tipsla', 'model': 'S', 'manufacture_year': 2008, 'price': 24000},\n",
    "    {'brand': 'Tipsla', 'model': 'S2', 'manufacture_year': 2010, 'price': 32999},\n",
    "    {'brand': 'Tipsla', 'model': 'X', 'manufacture_year': 2013, 'price': 28999},\n",
    "    {'brand': 'Tipsla', 'model': 'X2', 'manufacture_year': 2015, 'price': 35999},\n",
    "    {'brand': 'Tipsla', 'model': 'XF', 'manufacture_year': 2018, 'price': 39999},\n",
    "    {'brand': 'Tipsla', 'model': 'XF2.0', 'manufacture_year': 2019, 'price': 49999},\n",
    "    {'brand': 'Nissota', 'model': 'root', 'manufacture_year': 1990, 'price': 12500},\n",
    "    {'brand': 'Nissota', 'model': 'stem', 'manufacture_year': 1998, 'price': 17500},\n",
    "    {'brand': 'Nissota', 'model': 'branch', 'manufacture_year': 2010, 'price': 23999},\n",
    "    {'brand': 'Nissota', 'model': 'leaf', 'manufacture_year': 2015, 'price': 31999}\n",
    "]"
   ]
  },
  {
   "cell_type": "markdown",
   "metadata": {},
   "source": [
    "We want to include in these dictionaries two additional keys: the distance traveled by car and the factory where the car was manufactured. Your task is to write the function `update_cars`, which gets the current year (integer) and a list of dictionaries representing cars as parameters and returns the updated list. The function updates the `cars` list by adding the keys `'distance'` and `'origin'`, whose values are computed considering the following requirements:\n",
    "\n",
    "* Expensive cars (price > 37,500) are only driven for 80,000 km a year.\n",
    "* Normal cars (price <= 37,500) are driven for a total of 240,000 km per year.\n",
    "* The regular McFarri cars are from Britain, but the s-class cars are manufactured in Italy.\n",
    "* The Tipsla cars are manufactured in The Netherlands, except for the Tipsla XF2.0 which is manufactured in the USA.\n",
    "* All Nissotas are manufactured in Japan.\n",
    "\n",
    "**Notes:** \n",
    "1. The modified dictionaries must have the required keys, but their order is not relevant.\n",
    "2. When computing the values of `distance`, the current year and the manufacture year must be used to compute the number of years a car has been driven. \n",
    "3. Beware of the use of upper-case and lower-case letters, as well as of white spaces. Inconsistencies or unexpected characters might lead to a wrong solution.\n",
    "3. The function must have a docstring and type hints.\n",
    "4. Make sure to use the order of the parameters that we defined above.\n",
    "\n",
    "\n",
    "**Example:**  \n",
    "*Input:*  \n",
    "```Python \n",
    "year = 2021\n",
    "cars = [{'brand': 'McFarri',\n",
    "         'model': '445',\n",
    "         'manufacture_year': 1980,\n",
    "         'price': 18000}, ...]\n",
    "```\n",
    "\n",
    "*Output:*  \n",
    "```Python\n",
    "[{'brand': 'McFarri',\n",
    "  'model': '445',\n",
    "  'manufacture_year': 1980,\n",
    "  'price': 18000,\n",
    "  'distance': 9840000,\n",
    "  'origin': 'Britain'}, ...]\n",
    "```"
   ]
  },
  {
   "cell_type": "code",
   "execution_count": 11,
   "metadata": {},
   "outputs": [
    {
     "data": {
      "text/plain": [
       "[{'brand': 'McFarri',\n",
       "  'model': '445',\n",
       "  'manufacture_year': 1980,\n",
       "  'price': 18000,\n",
       "  'distance': 9840000,\n",
       "  'origin': 'Britan'},\n",
       " {'brand': 'McFarri',\n",
       "  'model': '455',\n",
       "  'manufacture_year': 1985,\n",
       "  'price': 22000,\n",
       "  'distance': 8640000,\n",
       "  'origin': 'Britan'},\n",
       " {'brand': 'McFarri',\n",
       "  'model': '545',\n",
       "  'manufacture_year': 1998,\n",
       "  'price': 28000,\n",
       "  'distance': 5520000,\n",
       "  'origin': 'Britan'},\n",
       " {'brand': 'McFarri',\n",
       "  'model': '555',\n",
       "  'manufacture_year': 2001,\n",
       "  'price': 30599,\n",
       "  'distance': 4800000,\n",
       "  'origin': 'Britan'},\n",
       " {'brand': 'McFarri',\n",
       "  'model': 's445',\n",
       "  'manufacture_year': 2007,\n",
       "  'price': 36000,\n",
       "  'distance': 3360000,\n",
       "  'origin': 'Italy'},\n",
       " {'brand': 'McFarri',\n",
       "  'model': 's455',\n",
       "  'manufacture_year': 2008,\n",
       "  'price': 44000,\n",
       "  'distance': 1040000,\n",
       "  'origin': 'Italy'},\n",
       " {'brand': 'McFarri',\n",
       "  'model': 's545',\n",
       "  'manufacture_year': 2013,\n",
       "  'price': 56000,\n",
       "  'distance': 640000,\n",
       "  'origin': 'Italy'},\n",
       " {'brand': 'McFarri',\n",
       "  'model': 's555',\n",
       "  'manufacture_year': 2017,\n",
       "  'price': 112599,\n",
       "  'distance': 320000,\n",
       "  'origin': 'Italy'},\n",
       " {'brand': 'Tipsla',\n",
       "  'model': 'S',\n",
       "  'manufacture_year': 2008,\n",
       "  'price': 24000,\n",
       "  'distance': 3120000,\n",
       "  'origin': 'Netherlands'},\n",
       " {'brand': 'Tipsla',\n",
       "  'model': 'S2',\n",
       "  'manufacture_year': 2010,\n",
       "  'price': 32999,\n",
       "  'distance': 2640000,\n",
       "  'origin': 'Netherlands'},\n",
       " {'brand': 'Tipsla',\n",
       "  'model': 'X',\n",
       "  'manufacture_year': 2013,\n",
       "  'price': 28999,\n",
       "  'distance': 1920000,\n",
       "  'origin': 'Netherlands'},\n",
       " {'brand': 'Tipsla',\n",
       "  'model': 'X2',\n",
       "  'manufacture_year': 2015,\n",
       "  'price': 35999,\n",
       "  'distance': 1440000,\n",
       "  'origin': 'Netherlands'},\n",
       " {'brand': 'Tipsla',\n",
       "  'model': 'XF',\n",
       "  'manufacture_year': 2018,\n",
       "  'price': 39999,\n",
       "  'distance': 240000,\n",
       "  'origin': 'Netherlands'},\n",
       " {'brand': 'Tipsla',\n",
       "  'model': 'XF2.0',\n",
       "  'manufacture_year': 2019,\n",
       "  'price': 49999,\n",
       "  'distance': 160000,\n",
       "  'origin': 'USA'},\n",
       " {'brand': 'Nissota',\n",
       "  'model': 'root',\n",
       "  'manufacture_year': 1990,\n",
       "  'price': 12500,\n",
       "  'distance': 7440000,\n",
       "  'origin': 'Japan'},\n",
       " {'brand': 'Nissota',\n",
       "  'model': 'stem',\n",
       "  'manufacture_year': 1998,\n",
       "  'price': 17500,\n",
       "  'distance': 5520000,\n",
       "  'origin': 'Japan'},\n",
       " {'brand': 'Nissota',\n",
       "  'model': 'branch',\n",
       "  'manufacture_year': 2010,\n",
       "  'price': 23999,\n",
       "  'distance': 2640000,\n",
       "  'origin': 'Japan'},\n",
       " {'brand': 'Nissota',\n",
       "  'model': 'leaf',\n",
       "  'manufacture_year': 2015,\n",
       "  'price': 31999}]"
      ]
     },
     "execution_count": 11,
     "metadata": {},
     "output_type": "execute_result"
    }
   ],
   "source": [
    "current_year = 2021\n",
    "\n",
    "#// BEGIN_TODO [Car_dictionaries] Car dictionaries\n",
    "\n",
    "def com_distence(year: int, price: int) -> int:\n",
    "    \"\"\"\n",
    "    this is a docstring\n",
    "    \"\"\"\n",
    "    if price > 37500:\n",
    "        return 80000 * (current_year - year)\n",
    "    else: \n",
    "        return 240000 * (current_year - year)\n",
    "    \n",
    "\n",
    "def com_origin(brand: str, model: str) -> str:\n",
    "    \"\"\"\n",
    "    this is a docstring\n",
    "    \"\"\"\n",
    "    if brand == 'Nissota':\n",
    "        return 'Japan'\n",
    "    if brand == 'Tipsla':\n",
    "        if model == 'XF2.0':\n",
    "            return 'USA'\n",
    "        else:\n",
    "            return 'Netherlands'\n",
    "    if brand == 'McFarri':\n",
    "        if model[0] == 's':\n",
    "            return 'Italy'\n",
    "        else:\n",
    "            return 'Britan'\n",
    "\n",
    "def update_cars(current_year: int, cars: List[Dict[str, any]]) -> List[Dict[str, any]]:\n",
    "    \"\"\"\n",
    "    Car Dictionaries\n",
    "    update_cars\n",
    "    this is a docstring\n",
    "    \"\"\"\n",
    "    for i in range(len(cars) - 1):\n",
    "        cars[i]['distance'] = com_distence(cars[i]['manufacture_year'],  cars[i]['price'])\n",
    "        cars[i]['origin'] = com_origin(cars[i]['brand'], cars[i]['model'])\n",
    "    return cars\n",
    "\n",
    "#// END_TODO [Car_dictionaries]\n",
    "\n",
    "cars = update_cars(current_year, cars)\n",
    "cars"
   ]
  },
  {
   "cell_type": "markdown",
   "metadata": {},
   "source": [
    "# Employee of the Year"
   ]
  },
  {
   "cell_type": "code",
   "execution_count": 12,
   "metadata": {},
   "outputs": [],
   "source": [
    "# Change according to required imports\n",
    "from typing import List\n",
    "import json"
   ]
  },
  {
   "cell_type": "markdown",
   "metadata": {},
   "source": [
    "The `datasets` folder contains the `tasks` JSON file, which is a dataset taken from a large corporation. This file contains a list of all the tasks that the employees have handled in the last year. Create the function `find_employee_of_year`, which takes the path to the dataset as a parameter (`path`) and returns a list with all the IDs of the employees (strings) that have completed the highest number of tasks. Store the result in the `best_employees` variable.\n",
    "\n",
    "**Notes:** \n",
    "1. The items in this list contain other data structures (lists, dicts).\n",
    "2. Explore the dataset first to get familiar with the data.\n",
    "3. Investigate about and use the `json` module.\n",
    "4. The function must have a docstring and type hints.\n",
    "\n",
    "**Example:**  \n",
    "*Input:*  \n",
    "```Python\n",
    "path = 'datasets/tasks.json'\n",
    "```\n",
    "\n",
    "*Output:*  \n",
    "```Python\n",
    "['319133', '856942']\n",
    "```"
   ]
  },
  {
   "cell_type": "code",
   "execution_count": 13,
   "metadata": {},
   "outputs": [
    {
     "name": "stdout",
     "output_type": "stream",
     "text": [
      "['319133', '856942']\n"
     ]
    }
   ],
   "source": [
    "path = \"datasets/tasks.json\"\n",
    "\n",
    "#// BEGIN_TODO [Employee_of_the_year] Employee of the year\n",
    "\n",
    "def task_amount(employee: str, employee_data: dict) -> int:\n",
    "    \"\"\"\n",
    "    this is a docstring\n",
    "    \"\"\"\n",
    "    task_data = employee_data[employee]\n",
    "    task_num = 0\n",
    "    for i in range(len(task_data)):\n",
    "        if task_data[i]['done'] == True:\n",
    "            task_num += 1\n",
    "    return task_num\n",
    "\n",
    "\n",
    "\n",
    "def creat_id(id_list: list) -> list:\n",
    "    \"\"\"\n",
    "    this is a docstring\n",
    "    \"\"\"\n",
    "    id_list_1 = []\n",
    "    for x in id_list:\n",
    "        id = str(x)\n",
    "        employee_id = id[2:8]\n",
    "        id_list_1.append(employee_id)\n",
    "    return id_list_1\n",
    "\n",
    "\n",
    "\n",
    "def find_max(employee_id: list,employee_data: list) -> list:\n",
    "    \"\"\"\n",
    "    this is a docstring\n",
    "    \"\"\"\n",
    "    max_num = 0\n",
    "    max_id = []\n",
    "    for m in range(len(employee_id)):\n",
    "        a = task_amount(employee_id[m],employee_data[m] )\n",
    "        if a >= max_num:\n",
    "            max_num = a\n",
    "    for n in range(len(employee_id)):\n",
    "        b = task_amount(employee_id[n],employee_data[n] )\n",
    "        if b == max_num:\n",
    "            max_id.append(employee_id[n])\n",
    "    return max_id\n",
    "\n",
    "def find_employee_of_year(path: str) -> List[str]:\n",
    "    \"\"\"\n",
    "    Employee of the Year\n",
    "    find_employee_of_year\n",
    "    this is a docstring\n",
    "    \"\"\"\n",
    "    new_path = 'E:/download/Exercises-3-template/' + path\n",
    "    with open(new_path, 'r') as f:\n",
    "        data = json.load(f)\n",
    "    employee_id = creat_id(data)\n",
    "    best_employees = find_max(employee_id,data)\n",
    "    return best_employees\n",
    "\n",
    "\n",
    "best_employees = find_employee_of_year(path)\n",
    "\n",
    "#// END_TODO [Employee_of_the_year]\n",
    "\n",
    "print(best_employees)"
   ]
  },
  {
   "cell_type": "markdown",
   "metadata": {},
   "source": [
    "# Pokemon Search"
   ]
  },
  {
   "cell_type": "code",
   "execution_count": 14,
   "metadata": {},
   "outputs": [],
   "source": [
    "# Change according to required imports\n",
    "from typing import List\n",
    "import json"
   ]
  },
  {
   "cell_type": "markdown",
   "metadata": {},
   "source": [
    "The `datasets` folder contains the `pokedex` file, which has information about all Pokemons, including their IDs, names, stats, types, and skills. Load the `pokedex.json` file into the `pokedex` variable.\n",
    "\n",
    "Then, create a function `compute_pokemon_skills` that receives the path of the `pokedex` file (`path`) and the name of a Pokemon as a parameter (`name`), and; returns an integer with the number of skills that the Pokemon can learn (also count duplicate skills). If the Pokemon does not exist in the file you must return `-1`.\n",
    "\n",
    "**Notes:** \n",
    "1. The items in this list contain other data structures (lists, dicts).\n",
    "2. Explore the dataset first to get familiar with the data.\n",
    "3. Investigate about and use the `json` module.\n",
    "\n",
    "**Example:**  \n",
    "*Input:*  \n",
    "```Python \n",
    "path = 'datasets/pokedex.json'\n",
    "name = 'Bulbasaur'\n",
    "```\n",
    "\n",
    "*Output:*  \n",
    "```Python\n",
    "67\n",
    "```"
   ]
  },
  {
   "cell_type": "code",
   "execution_count": 15,
   "metadata": {},
   "outputs": [
    {
     "data": {
      "text/plain": [
       "67"
      ]
     },
     "execution_count": 15,
     "metadata": {},
     "output_type": "execute_result"
    }
   ],
   "source": [
    "path = 'datasets/pokedex.json'\n",
    "name = 'Bulbasaur'\n",
    "\n",
    "#// BEGIN_TODO [Pokemon_search] Pokemon search\n",
    "\n",
    "\n",
    "def compute_pokemon_skills(path: str, name: str) -> int:\n",
    "    \"\"\"\n",
    "    Pokemon Search\n",
    "    compute_pokemon_skills\n",
    "    this is a docstring\n",
    "    \"\"\"\n",
    "    new_path = 'E:/download/Exercises-3-template/' + path\n",
    "    with open(new_path, 'r') as f:\n",
    "        data = json.load(f)\n",
    "\n",
    "    for i in range (len(data)):\n",
    "        if data[i]['ename'] == name:\n",
    "            num = len(data[i]['skills']['egg']) + len(data[i]['skills']['level_up']) + len(data[i]['skills']['transfer']) + len(data[i]['skills']['tm']) + len(data[i]['skills']['tutor'])\n",
    "            return num\n",
    "    return -1\n",
    "\n",
    "#// END_TODO [Pokemon_search]\n",
    "\n",
    "compute_pokemon_skills(path, name)"
   ]
  },
  {
   "cell_type": "code",
   "execution_count": 16,
   "metadata": {},
   "outputs": [
    {
     "name": "stdout",
     "output_type": "stream",
     "text": [
      "Variable                 Type                    Data/Info\n",
      "----------------------------------------------------------\n",
      "AUTHOR_DATE              str                     2022-09-12\n",
      "AUTHOR_ID_NR             str                     1833847\n",
      "AUTHOR_NAME              str                     Jikun Shen\n",
      "Dict                     _SpecialGenericAlias    typing.Dict\n",
      "List                     _SpecialGenericAlias    typing.List\n",
      "auxiliary_prime          function                <function auxiliary_prime at 0x0000010E48B2EF70>\n",
      "best_employees           list                    n=2\n",
      "cars                     list                    n=18\n",
      "com_distence             function                <function com_distence at 0x0000010E48B6A9D0>\n",
      "com_origin               function                <function com_origin at 0x0000010E48B6AA60>\n",
      "compute_pokemon_skills   function                <function compute_pokemon<...>ls at 0x0000010E48B7F550>\n",
      "creat_id                 function                <function creat_id at 0x0000010E48B75EE0>\n",
      "current_year             int                     2021\n",
      "find_employee_of_year    function                <function find_employee_o<...>ar at 0x0000010E48B7F040>\n",
      "find_max                 function                <function find_max at 0x0000010E48B75F70>\n",
      "has_duplicates           function                <function has_duplicates at 0x0000010E48B6A3A0>\n",
      "histogram                function                <function histogram at 0x0000010E48B6AB80>\n",
      "json                     module                  <module 'json' from 'E:\\\\<...>\\lib\\\\json\\\\__init__.py'>\n",
      "n                        int                     2\n",
      "name                     str                     Bulbasaur\n",
      "path                     str                     datasets/pokedex.json\n",
      "primes                   function                <function primes at 0x0000010E48B6A040>\n",
      "task_amount              function                <function task_amount at 0x0000010E48B75E50>\n",
      "update_cars              function                <function update_cars at 0x0000010E48B6A790>\n",
      "words                    list                    n=6\n"
     ]
    }
   ],
   "source": [
    "%whos"
   ]
  },
  {
   "cell_type": "markdown",
   "metadata": {},
   "source": [
    "---\n",
    "\n",
    "## (End of Notebook)\n",
    "\n",
    "&copy; 2021 - **TU/e** - Eindhoven University of Technology"
   ]
  }
 ],
 "metadata": {
  "anaconda-cloud": {},
  "kernelspec": {
   "display_name": "Python 3",
   "language": "python",
   "name": "python3"
  },
  "language_info": {
   "codemirror_mode": {
    "name": "ipython",
    "version": 3
   },
   "file_extension": ".py",
   "mimetype": "text/x-python",
   "name": "python",
   "nbconvert_exporter": "python",
   "pygments_lexer": "ipython3",
   "version": "3.8.8"
  }
 },
 "nbformat": 4,
 "nbformat_minor": 4
}
