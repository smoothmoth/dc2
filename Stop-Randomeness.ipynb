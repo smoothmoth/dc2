{
 "cells": [
  {
   "cell_type": "code",
   "execution_count": 1,
   "outputs": [],
   "source": [
    "import pandas as pd\n",
    "from sklearn.model_selection import train_test_split\n",
    "from sklearn.linear_model import LogisticRegression\n",
    "from sklearn.metrics import classification_report, confusion_matrix, accuracy_score"
   ],
   "metadata": {
    "collapsed": false,
    "ExecuteTime": {
     "end_time": "2024-06-20T05:22:37.106510200Z",
     "start_time": "2024-06-20T05:22:35.855112900Z"
    }
   }
  },
  {
   "cell_type": "code",
   "execution_count": 2,
   "outputs": [],
   "source": [
    "columns_to_keep = ['Asian', 'Black', 'White', 'outcomeUnsuitableForSearch', 'Female', 'Male', 'Year', 'Borough name', 'Other.1', 'Other']\n",
    "df = pd.read_excel(\"ethnic-group-by-borough.xlsx\")\n",
    "df.dropna(subset=['Code'], inplace=True)\n",
    "df2 = pd.read_csv(\"prepared_search.csv\", usecols=columns_to_keep)"
   ],
   "metadata": {
    "collapsed": false,
    "ExecuteTime": {
     "end_time": "2024-06-20T05:22:41.269689800Z",
     "start_time": "2024-06-20T05:22:37.106510200Z"
    }
   }
  },
  {
   "cell_type": "code",
   "execution_count": 3,
   "outputs": [],
   "source": [
    "# Cleaning and Renaming\n",
    "df.dropna(subset=['Code'], inplace=True)\n",
    "london_boroughs = ['Barking and Dagenham', 'Barnet', 'Bexley', 'Brent', 'Bromley', 'Camden', 'Croydon', 'Ealing','Enfield', 'Greenwich', 'Hackney', 'Hammersmith and Fulham', 'Haringey', 'Harrow', 'Havering','Hillingdon', 'Hounslow', 'Islington', 'Kensington and Chelsea', 'Kingston upon Thames', 'Lambeth', 'Lewisham', 'Merton', 'Newham', 'Redbridge', 'Richmond upon Thames', 'Southwark', 'Sutton', 'Tower Hamlets','Waltham Forest', 'Wandsworth', 'Westminster']\n",
    "london_boroughs = [borough.lower() for borough in london_boroughs]\n",
    "df = df[df['Area'].str.lower().isin(london_boroughs)]\n",
    "df.rename(columns={'Number': 'White_population', 'Unnamed: 3': 'Asian_population', 'Unnamed: 4': 'Black_population', 'Unnamed: 5': 'Other_population', 'Unnamed: 6' : 'Total_population', 'Area': 'Borough', 'Unnamed: 13': 'Year'}, inplace=True)\n",
    "columns_keep = ['Code', 'Borough', 'White_population', 'Asian_population', 'Black_population', 'Other_population', 'Total_population', 'Year']\n",
    "df = df[columns_keep]\n",
    "df.drop(columns=['Code'], inplace=True)\n",
    "df.dropna(how='all', inplace=True)\n",
    "columns_to_convert = ['White_population', 'Black_population', 'Other_population', 'Asian_population']\n",
    "df[columns_to_convert] = df[columns_to_convert].astype(int)\n",
    "# df[['Total_population']] = df[['Total_population']].astype(int)\n",
    "for col in columns_to_convert:\n",
    "    df[col] = df[col] / df['Total_population']\n",
    "\n",
    "df.drop(columns=['Total_population', 'Other_population'], inplace=True)"
   ],
   "metadata": {
    "collapsed": false,
    "ExecuteTime": {
     "end_time": "2024-06-20T05:22:41.316989100Z",
     "start_time": "2024-06-20T05:22:41.269689800Z"
    }
   }
  },
  {
   "cell_type": "code",
   "execution_count": 4,
   "outputs": [],
   "source": [
    "df2.rename(columns={'Borough name': 'Borough', 'Other': 'Other_Gender', 'Other.1': 'Other_Ethnicity'}, inplace=True)"
   ],
   "metadata": {
    "collapsed": false,
    "ExecuteTime": {
     "end_time": "2024-06-20T05:22:41.332837300Z",
     "start_time": "2024-06-20T05:22:41.325756800Z"
    }
   }
  },
  {
   "cell_type": "code",
   "execution_count": 5,
   "outputs": [],
   "source": [
    "df['Borough'] = df['Borough'].str.lower()\n",
    "df2['Borough'] = df2['Borough'].str.lower()\n",
    "df['Year'] = df['Year'].astype(int)\n",
    "df2['Year'] = df2['Year'].astype(int)\n",
    "merged_df = pd.merge(df2, df, on=['Borough', 'Year'], how='inner')"
   ],
   "metadata": {
    "collapsed": false,
    "ExecuteTime": {
     "end_time": "2024-06-20T05:22:41.923098200Z",
     "start_time": "2024-06-20T05:22:41.332837300Z"
    }
   }
  },
  {
   "cell_type": "code",
   "execution_count": 6,
   "outputs": [],
   "source": [
    "merged_df= merged_df.drop(columns=['Year', 'Borough'])"
   ],
   "metadata": {
    "collapsed": false,
    "ExecuteTime": {
     "end_time": "2024-06-20T05:22:41.986712900Z",
     "start_time": "2024-06-20T05:22:41.923098200Z"
    }
   }
  },
  {
   "cell_type": "code",
   "execution_count": null,
   "outputs": [],
   "source": [
    "merged_df.to_csv('Final.csv', index=False)"
   ],
   "metadata": {
    "collapsed": false
   }
  },
  {
   "cell_type": "code",
   "execution_count": null,
   "outputs": [],
   "source": [
    "y = merged_df['outcomeUnsuitableForSearch']\n",
    "X = merged_df.drop(columns=['outcomeUnsuitableForSearch'])"
   ],
   "metadata": {
    "collapsed": false
   }
  },
  {
   "cell_type": "code",
   "execution_count": null,
   "outputs": [],
   "source": [
    "X_train, X_test, y_train, y_test = train_test_split(X, y, test_size=0.2, random_state=42)"
   ],
   "metadata": {
    "collapsed": false
   }
  },
  {
   "cell_type": "code",
   "execution_count": null,
   "outputs": [],
   "source": [
    "model = LogisticRegression(max_iter=1000)\n",
    "model.fit(X_train, y_train)"
   ],
   "metadata": {
    "collapsed": false
   }
  },
  {
   "cell_type": "code",
   "execution_count": null,
   "outputs": [],
   "source": [
    "y_pred = model.predict(X_test)\n",
    "\n",
    "# Evaluation metrics\n",
    "print(\"Accuracy:\", accuracy_score(y_test, y_pred))\n",
    "print(\"Confusion Matrix:\\n\", confusion_matrix(y_test, y_pred))\n",
    "print(\"Classification Report:\\n\", classification_report(y_test, y_pred))"
   ],
   "metadata": {
    "collapsed": false
   }
  }
 ],
 "metadata": {
  "kernelspec": {
   "display_name": "Python 3",
   "language": "python",
   "name": "python3"
  },
  "language_info": {
   "codemirror_mode": {
    "name": "ipython",
    "version": 2
   },
   "file_extension": ".py",
   "mimetype": "text/x-python",
   "name": "python",
   "nbconvert_exporter": "python",
   "pygments_lexer": "ipython2",
   "version": "2.7.6"
  }
 },
 "nbformat": 4,
 "nbformat_minor": 0
}
